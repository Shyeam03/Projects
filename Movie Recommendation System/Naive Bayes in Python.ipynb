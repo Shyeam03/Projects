{
 "nbformat": 4,
 "nbformat_minor": 0,
 "metadata": {
  "colab": {
   "provenance": [],
   "collapsed_sections": []
  },
  "kernelspec": {
   "name": "python3",
   "display_name": "Python 3"
  },
  "language_info": {
   "name": "python"
  }
 },
 "cells": [
  {
   "cell_type": "code",
   "execution_count": null,
   "metadata": {
    "colab": {
     "base_uri": "https://localhost:8080/"
    },
    "id": "6xRXeQnuonj-",
    "outputId": "cc7fa8c7-5aa8-493c-e519-12b9219629ec",
    "pycharm": {
     "name": "#%%\n"
    }
   },
   "outputs": [
    {
     "output_type": "stream",
     "name": "stderr",
     "text": [
      "[nltk_data] Downloading package stopwords to /root/nltk_data...\n",
      "[nltk_data]   Unzipping corpora/stopwords.zip.\n"
     ]
    },
    {
     "output_type": "execute_result",
     "data": {
      "text/plain": [
       "True"
      ]
     },
     "metadata": {},
     "execution_count": 2
    }
   ],
   "source": [
    "import pandas as pd\n",
    "import nltk\n",
    "from sklearn.feature_extraction.text import CountVectorizer\n",
    "from sklearn.model_selection import train_test_split\n",
    "import string\n",
    "from nltk.stem.snowball import stopwords\n",
    "nltk.download('stopwords')"
   ]
  },
  {
   "cell_type": "code",
   "source": [
    "movies = pd.read_csv(\"imdb_master.csv\", encoding = \"ISO-8859-1\")"
   ],
   "metadata": {
    "id": "PaT5TMPxpFRM",
    "pycharm": {
     "name": "#%%\n"
    }
   },
   "execution_count": null,
   "outputs": []
  },
  {
   "cell_type": "code",
   "source": [
    "movies.drop(labels=['type','file','Unnamed: 0'], axis=1 , inplace =True)"
   ],
   "metadata": {
    "id": "tE9Zkp36pbzJ",
    "pycharm": {
     "name": "#%%\n"
    }
   },
   "execution_count": null,
   "outputs": []
  },
  {
   "cell_type": "code",
   "source": [
    "filt = movies['label'] == 'unsup'\n",
    "list1 = movies[filt]\n",
    "list1 = list1.index.tolist()\n",
    "movies.drop(labels =list1, axis = 0 , inplace =True)"
   ],
   "metadata": {
    "id": "pe1qe4kRp0zP",
    "pycharm": {
     "name": "#%%\n"
    }
   },
   "execution_count": null,
   "outputs": []
  },
  {
   "cell_type": "code",
   "source": [
    "#Converting review column to lower case\n",
    "movies['review'] = movies['review'].str.lower()"
   ],
   "metadata": {
    "id": "zjfW2EGprYN2",
    "pycharm": {
     "name": "#%%\n"
    }
   },
   "execution_count": null,
   "outputs": []
  },
  {
   "cell_type": "code",
   "source": [
    "#removing punctuations\n",
    "def remove_punctuation(text):\n",
    "  for element in text:\n",
    "    if element in string.punctuation:\n",
    "      text = text.replace(element, \"\")\n",
    "  return text\n",
    "movies['review'] = movies['review'].apply(remove_punctuation)"
   ],
   "metadata": {
    "id": "LYCtRNnkrj0Z",
    "pycharm": {
     "name": "#%%\n"
    }
   },
   "execution_count": null,
   "outputs": []
  },
  {
   "cell_type": "code",
   "source": [
    "#removing stopwords\n",
    "stop =stopwords.words('english')\n",
    "movies['review'] = movies['review'].apply( lambda x : \" \".join([word for word in x.split() if word not in (stop)]))"
   ],
   "metadata": {
    "id": "ROqlQjyksaEL",
    "pycharm": {
     "name": "#%%\n"
    }
   },
   "execution_count": null,
   "outputs": []
  },
  {
   "cell_type": "code",
   "source": [
    "#Stemming\n",
    "from nltk.stem.snowball import SnowballStemmer\n",
    "stemmer = SnowballStemmer('english')\n",
    "movies['review'] = movies['review'].apply(lambda x: \" \".join([stemmer.stem(word) for word in x.split()]))"
   ],
   "metadata": {
    "id": "E77JHipGtLB7",
    "pycharm": {
     "name": "#%%\n"
    }
   },
   "execution_count": null,
   "outputs": []
  },
  {
   "cell_type": "code",
   "source": [
    "movies.to_csv('out.csv', index=False)  "
   ],
   "metadata": {
    "id": "yoOsqn00RBkL",
    "pycharm": {
     "name": "#%%\n"
    }
   },
   "execution_count": null,
   "outputs": []
  },
  {
   "cell_type": "code",
   "source": [
    "movies.shape"
   ],
   "metadata": {
    "colab": {
     "base_uri": "https://localhost:8080/"
    },
    "id": "dmpUaAKYyHrV",
    "outputId": "fccd4d9d-1e7f-4e92-9e9b-b0a730d1096f",
    "pycharm": {
     "name": "#%%\n"
    }
   },
   "execution_count": null,
   "outputs": [
    {
     "output_type": "execute_result",
     "data": {
      "text/plain": [
       "(50000, 2)"
      ]
     },
     "metadata": {},
     "execution_count": 41
    }
   ]
  },
  {
   "cell_type": "code",
   "source": [
    "#seperating labels\n",
    "X = movies['review']\n",
    "y = movies['label']"
   ],
   "metadata": {
    "id": "w6OdCzJLyuq0",
    "pycharm": {
     "name": "#%%\n"
    }
   },
   "execution_count": null,
   "outputs": []
  },
  {
   "cell_type": "code",
   "source": [
    "#Test Train split\n",
    "X_train, X_test, y_train, y_test = train_test_split(X, y, test_size=0.3)"
   ],
   "metadata": {
    "id": "T1wALgPFyc7m",
    "pycharm": {
     "name": "#%%\n"
    }
   },
   "execution_count": null,
   "outputs": []
  },
  {
   "cell_type": "code",
   "source": [
    "#bag of words representation\n",
    "from sklearn.feature_extraction.text import CountVectorizer\n",
    "count_vect = CountVectorizer()\n",
    "bow_train = count_vect.fit_transform(X_train)\n",
    "bow_test = count_vect.transform(X_test) # we cannot use fit_tranform here as it will introduce bias into our testing data"
   ],
   "metadata": {
    "id": "X_nJ7xjYyJWd",
    "pycharm": {
     "name": "#%%\n"
    }
   },
   "execution_count": null,
   "outputs": []
  },
  {
   "cell_type": "code",
   "source": [
    "from sklearn.naive_bayes import MultinomialNB\n",
    "clf = MultinomialNB(alpha = 6)\n",
    "clf.fit(bow_train, y_train)"
   ],
   "metadata": {
    "colab": {
     "base_uri": "https://localhost:8080/"
    },
    "id": "_fxXdoqIzmFf",
    "outputId": "dd8f4809-4a43-4572-d65b-01f7e263800e",
    "pycharm": {
     "name": "#%%\n"
    }
   },
   "execution_count": null,
   "outputs": [
    {
     "output_type": "execute_result",
     "data": {
      "text/plain": [
       "MultinomialNB(alpha=6)"
      ]
     },
     "metadata": {},
     "execution_count": 104
    }
   ]
  },
  {
   "cell_type": "code",
   "source": [
    "y_pred_test  = clf.predict(bow_test)\n",
    "y_pred_train = clf.predict(bow_train)"
   ],
   "metadata": {
    "id": "cR3PSViz0ArK",
    "pycharm": {
     "name": "#%%\n"
    }
   },
   "execution_count": null,
   "outputs": []
  },
  {
   "cell_type": "code",
   "source": [
    "from sklearn.metrics import accuracy_score\n",
    "#accuracy score for testing set\n",
    "acc = accuracy_score(y_test ,y_pred_test, normalize = True)* float(100)\n",
    "print(acc)"
   ],
   "metadata": {
    "colab": {
     "base_uri": "https://localhost:8080/"
    },
    "id": "tet-PwK14ldW",
    "outputId": "0cfe4b66-0fb0-4601-ff3c-18b83a3947dc",
    "pycharm": {
     "name": "#%%\n"
    }
   },
   "execution_count": null,
   "outputs": [
    {
     "output_type": "stream",
     "name": "stdout",
     "text": [
      "84.78666666666666\n"
     ]
    }
   ]
  },
  {
   "cell_type": "code",
   "source": [
    "#acuracy score for training set\n",
    "acc = accuracy_score(y_train , y_pred_train, normalize = True)* float(100)\n",
    "print(acc)"
   ],
   "metadata": {
    "colab": {
     "base_uri": "https://localhost:8080/"
    },
    "id": "anLJnJBp5SQe",
    "outputId": "7940da60-1856-4b68-d66b-d74a2155d33b",
    "pycharm": {
     "name": "#%%\n"
    }
   },
   "execution_count": null,
   "outputs": [
    {
     "output_type": "stream",
     "name": "stdout",
     "text": [
      "88.38285714285715\n"
     ]
    }
   ]
  },
  {
   "cell_type": "code",
   "source": [
    "import seaborn as sns\n",
    "from sklearn.metrics import confusion_matrix\n",
    "sns.heatmap(confusion_matrix(y_test, y_pred_test), annot =True , fmt='d')"
   ],
   "metadata": {
    "colab": {
     "base_uri": "https://localhost:8080/",
     "height": 283
    },
    "id": "yAj_fXZg5chC",
    "outputId": "1f64a17c-4b35-4bf3-9573-af7bc2bd5c66",
    "pycharm": {
     "name": "#%%\n"
    }
   },
   "execution_count": null,
   "outputs": [
    {
     "output_type": "execute_result",
     "data": {
      "text/plain": [
       "<matplotlib.axes._subplots.AxesSubplot at 0x7f7669e71210>"
      ]
     },
     "metadata": {},
     "execution_count": 98
    },
    {
     "output_type": "display_data",
     "data": {
      "text/plain": [
       "<Figure size 432x288 with 2 Axes>"
      ],
      "image/png": "[encoded data removed]"
     },
     "metadata": {
      "needs_background": "light"
     }
    }
   ]
  }
 ]
}